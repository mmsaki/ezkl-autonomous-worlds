{
 "cells": [
  {
   "cell_type": "code",
   "execution_count": 1,
   "id": "1b23847f-a2c9-4165-96b2-b12ed8a491b8",
   "metadata": {},
   "outputs": [
    {
     "name": "stderr",
     "output_type": "stream",
     "text": [
      "/Users/meekmsaki/anaconda3/envs/zkml/lib/python3.9/site-packages/torchvision/io/image.py:13: UserWarning: Failed to load image Python extension: dlopen(/Users/meekmsaki/anaconda3/envs/zkml/lib/python3.9/site-packages/torchvision/image.so, 0x0006): Symbol not found: __ZN2at4_ops19empty_memory_format4callEN3c108ArrayRefIxEENS2_8optionalINS2_10ScalarTypeEEENS5_INS2_6LayoutEEENS5_INS2_6DeviceEEENS5_IbEENS5_INS2_12MemoryFormatEEE\n",
      "  Referenced from: <67CD63CE-57E0-341F-B3B8-78729B03D2B3> /Users/meekmsaki/anaconda3/envs/zkml/lib/python3.9/site-packages/torchvision/image.so\n",
      "  Expected in:     <908CA0CD-2294-3FE1-BD48-F54A78458210> /Users/meekmsaki/anaconda3/envs/zkml/lib/python3.9/site-packages/torch/lib/libtorch_cpu.dylib\n",
      "  warn(f\"Failed to load image Python extension: {e}\")\n"
     ]
    }
   ],
   "source": [
    "import os\n",
    "import torch\n",
    "from torch import nn\n",
    "from torchvision.datasets import CIFAR10\n",
    "from torch.utils.data import DataLoader\n",
    "from torchvision import transforms"
   ]
  },
  {
   "cell_type": "code",
   "execution_count": 2,
   "id": "012e2ebe-8227-420a-b49f-21b500c0488b",
   "metadata": {},
   "outputs": [
    {
     "name": "stdout",
     "output_type": "stream",
     "text": [
      "Downloading https://www.cs.toronto.edu/~kriz/cifar-10-python.tar.gz to /Users/meekmsaki/dev/ETHGLOBAL/AUTONOMOUS-WORLDS/world-tutorial/zkml/ezkl/examples/notebook/cifar-10-python.tar.gz\n"
     ]
    },
    {
     "data": {
      "application/vnd.jupyter.widget-view+json": {
       "model_id": "b91f3013f96442af930d03c3e5c51e85",
       "version_major": 2,
       "version_minor": 0
      },
      "text/plain": [
       "  0%|          | 0/170498071 [00:00<?, ?it/s]"
      ]
     },
     "metadata": {},
     "output_type": "display_data"
    },
    {
     "name": "stdout",
     "output_type": "stream",
     "text": [
      "Extracting /Users/meekmsaki/dev/ETHGLOBAL/AUTONOMOUS-WORLDS/world-tutorial/zkml/ezkl/examples/notebook/cifar-10-python.tar.gz to /Users/meekmsaki/dev/ETHGLOBAL/AUTONOMOUS-WORLDS/world-tutorial/zkml/ezkl/examples/notebook\n",
      "Starting epoch 1\n"
     ]
    },
    {
     "name": "stderr",
     "output_type": "stream",
     "text": [
      "/Users/meekmsaki/anaconda3/envs/zkml/lib/python3.9/site-packages/torchvision/io/image.py:13: UserWarning: Failed to load image Python extension: dlopen(/Users/meekmsaki/anaconda3/envs/zkml/lib/python3.9/site-packages/torchvision/image.so, 0x0006): Symbol not found: __ZN2at4_ops19empty_memory_format4callEN3c108ArrayRefIxEENS2_8optionalINS2_10ScalarTypeEEENS5_INS2_6LayoutEEENS5_INS2_6DeviceEEENS5_IbEENS5_INS2_12MemoryFormatEEE\n",
      "  Referenced from: <67CD63CE-57E0-341F-B3B8-78729B03D2B3> /Users/meekmsaki/anaconda3/envs/zkml/lib/python3.9/site-packages/torchvision/image.so\n",
      "  Expected in:     <908CA0CD-2294-3FE1-BD48-F54A78458210> /Users/meekmsaki/anaconda3/envs/zkml/lib/python3.9/site-packages/torch/lib/libtorch_cpu.dylib\n",
      "  warn(f\"Failed to load image Python extension: {e}\")\n"
     ]
    },
    {
     "name": "stdout",
     "output_type": "stream",
     "text": [
      "Loss after mini-batch   500: 2.237\n",
      "Loss after mini-batch  1000: 2.099\n",
      "Loss after mini-batch  1500: 2.031\n",
      "Loss after mini-batch  2000: 2.000\n",
      "Loss after mini-batch  2500: 1.938\n",
      "Loss after mini-batch  3000: 1.945\n",
      "Loss after mini-batch  3500: 1.916\n",
      "Loss after mini-batch  4000: 1.903\n",
      "Loss after mini-batch  4500: 1.870\n",
      "Loss after mini-batch  5000: 1.856\n",
      "Starting epoch 2\n"
     ]
    },
    {
     "name": "stderr",
     "output_type": "stream",
     "text": [
      "/Users/meekmsaki/anaconda3/envs/zkml/lib/python3.9/site-packages/torchvision/io/image.py:13: UserWarning: Failed to load image Python extension: dlopen(/Users/meekmsaki/anaconda3/envs/zkml/lib/python3.9/site-packages/torchvision/image.so, 0x0006): Symbol not found: __ZN2at4_ops19empty_memory_format4callEN3c108ArrayRefIxEENS2_8optionalINS2_10ScalarTypeEEENS5_INS2_6LayoutEEENS5_INS2_6DeviceEEENS5_IbEENS5_INS2_12MemoryFormatEEE\n",
      "  Referenced from: <67CD63CE-57E0-341F-B3B8-78729B03D2B3> /Users/meekmsaki/anaconda3/envs/zkml/lib/python3.9/site-packages/torchvision/image.so\n",
      "  Expected in:     <908CA0CD-2294-3FE1-BD48-F54A78458210> /Users/meekmsaki/anaconda3/envs/zkml/lib/python3.9/site-packages/torch/lib/libtorch_cpu.dylib\n",
      "  warn(f\"Failed to load image Python extension: {e}\")\n"
     ]
    },
    {
     "name": "stdout",
     "output_type": "stream",
     "text": [
      "Loss after mini-batch   500: 1.831\n",
      "Loss after mini-batch  1000: 1.832\n",
      "Loss after mini-batch  1500: 1.825\n",
      "Loss after mini-batch  2000: 1.823\n",
      "Loss after mini-batch  2500: 1.816\n",
      "Loss after mini-batch  3000: 1.811\n",
      "Loss after mini-batch  3500: 1.802\n",
      "Loss after mini-batch  4000: 1.772\n",
      "Loss after mini-batch  4500: 1.774\n",
      "Loss after mini-batch  5000: 1.762\n",
      "Starting epoch 3\n"
     ]
    },
    {
     "name": "stderr",
     "output_type": "stream",
     "text": [
      "/Users/meekmsaki/anaconda3/envs/zkml/lib/python3.9/site-packages/torchvision/io/image.py:13: UserWarning: Failed to load image Python extension: dlopen(/Users/meekmsaki/anaconda3/envs/zkml/lib/python3.9/site-packages/torchvision/image.so, 0x0006): Symbol not found: __ZN2at4_ops19empty_memory_format4callEN3c108ArrayRefIxEENS2_8optionalINS2_10ScalarTypeEEENS5_INS2_6LayoutEEENS5_INS2_6DeviceEEENS5_IbEENS5_INS2_12MemoryFormatEEE\n",
      "  Referenced from: <67CD63CE-57E0-341F-B3B8-78729B03D2B3> /Users/meekmsaki/anaconda3/envs/zkml/lib/python3.9/site-packages/torchvision/image.so\n",
      "  Expected in:     <908CA0CD-2294-3FE1-BD48-F54A78458210> /Users/meekmsaki/anaconda3/envs/zkml/lib/python3.9/site-packages/torch/lib/libtorch_cpu.dylib\n",
      "  warn(f\"Failed to load image Python extension: {e}\")\n"
     ]
    },
    {
     "name": "stdout",
     "output_type": "stream",
     "text": [
      "Loss after mini-batch   500: 1.754\n",
      "Loss after mini-batch  1000: 1.764\n",
      "Loss after mini-batch  1500: 1.747\n",
      "Loss after mini-batch  2000: 1.754\n",
      "Loss after mini-batch  2500: 1.725\n",
      "Loss after mini-batch  3000: 1.726\n",
      "Loss after mini-batch  3500: 1.732\n",
      "Loss after mini-batch  4000: 1.710\n",
      "Loss after mini-batch  4500: 1.715\n",
      "Loss after mini-batch  5000: 1.686\n",
      "Starting epoch 4\n"
     ]
    },
    {
     "name": "stderr",
     "output_type": "stream",
     "text": [
      "/Users/meekmsaki/anaconda3/envs/zkml/lib/python3.9/site-packages/torchvision/io/image.py:13: UserWarning: Failed to load image Python extension: dlopen(/Users/meekmsaki/anaconda3/envs/zkml/lib/python3.9/site-packages/torchvision/image.so, 0x0006): Symbol not found: __ZN2at4_ops19empty_memory_format4callEN3c108ArrayRefIxEENS2_8optionalINS2_10ScalarTypeEEENS5_INS2_6LayoutEEENS5_INS2_6DeviceEEENS5_IbEENS5_INS2_12MemoryFormatEEE\n",
      "  Referenced from: <67CD63CE-57E0-341F-B3B8-78729B03D2B3> /Users/meekmsaki/anaconda3/envs/zkml/lib/python3.9/site-packages/torchvision/image.so\n",
      "  Expected in:     <908CA0CD-2294-3FE1-BD48-F54A78458210> /Users/meekmsaki/anaconda3/envs/zkml/lib/python3.9/site-packages/torch/lib/libtorch_cpu.dylib\n",
      "  warn(f\"Failed to load image Python extension: {e}\")\n"
     ]
    },
    {
     "name": "stdout",
     "output_type": "stream",
     "text": [
      "Loss after mini-batch   500: 1.717\n",
      "Loss after mini-batch  1000: 1.693\n",
      "Loss after mini-batch  1500: 1.694\n",
      "Loss after mini-batch  2000: 1.688\n",
      "Loss after mini-batch  2500: 1.679\n",
      "Loss after mini-batch  3000: 1.678\n",
      "Loss after mini-batch  3500: 1.683\n",
      "Loss after mini-batch  4000: 1.673\n",
      "Loss after mini-batch  4500: 1.664\n",
      "Loss after mini-batch  5000: 1.676\n",
      "Starting epoch 5\n"
     ]
    },
    {
     "name": "stderr",
     "output_type": "stream",
     "text": [
      "/Users/meekmsaki/anaconda3/envs/zkml/lib/python3.9/site-packages/torchvision/io/image.py:13: UserWarning: Failed to load image Python extension: dlopen(/Users/meekmsaki/anaconda3/envs/zkml/lib/python3.9/site-packages/torchvision/image.so, 0x0006): Symbol not found: __ZN2at4_ops19empty_memory_format4callEN3c108ArrayRefIxEENS2_8optionalINS2_10ScalarTypeEEENS5_INS2_6LayoutEEENS5_INS2_6DeviceEEENS5_IbEENS5_INS2_12MemoryFormatEEE\n",
      "  Referenced from: <67CD63CE-57E0-341F-B3B8-78729B03D2B3> /Users/meekmsaki/anaconda3/envs/zkml/lib/python3.9/site-packages/torchvision/image.so\n",
      "  Expected in:     <908CA0CD-2294-3FE1-BD48-F54A78458210> /Users/meekmsaki/anaconda3/envs/zkml/lib/python3.9/site-packages/torch/lib/libtorch_cpu.dylib\n",
      "  warn(f\"Failed to load image Python extension: {e}\")\n"
     ]
    },
    {
     "name": "stdout",
     "output_type": "stream",
     "text": [
      "Loss after mini-batch   500: 1.670\n",
      "Loss after mini-batch  1000: 1.654\n",
      "Loss after mini-batch  1500: 1.652\n",
      "Loss after mini-batch  2000: 1.632\n",
      "Loss after mini-batch  2500: 1.642\n",
      "Loss after mini-batch  3000: 1.661\n",
      "Loss after mini-batch  3500: 1.644\n",
      "Loss after mini-batch  4000: 1.619\n",
      "Loss after mini-batch  4500: 1.643\n",
      "Loss after mini-batch  5000: 1.641\n",
      "Training process has finished.\n"
     ]
    }
   ],
   "source": [
    "class MLP(nn.Module):\n",
    "  '''\n",
    "    Multilayer Perceptron.\n",
    "  '''\n",
    "  def __init__(self):\n",
    "    super().__init__()\n",
    "    self.layers = nn.Sequential(\n",
    "      nn.Flatten(),\n",
    "      nn.Linear(32 * 32 * 3, 64),\n",
    "      nn.ReLU(),\n",
    "      nn.Linear(64, 32),\n",
    "      nn.ReLU(),\n",
    "      nn.Linear(32, 10)\n",
    "    )\n",
    "\n",
    "\n",
    "  def forward(self, x):\n",
    "    '''Forward pass'''\n",
    "    return self.layers(x)\n",
    "  \n",
    "  \n",
    "if __name__ == '__main__':\n",
    "  \n",
    "  # Set fixed random number seed\n",
    "  torch.manual_seed(42)\n",
    "  \n",
    "  # Prepare CIFAR-10 dataset\n",
    "  dataset = CIFAR10(os.getcwd(), download=True, transform=transforms.ToTensor())\n",
    "  trainloader = torch.utils.data.DataLoader(dataset, batch_size=10, shuffle=True, num_workers=1)\n",
    "  \n",
    "  # Initialize the MLP\n",
    "  mlp = MLP()\n",
    "  \n",
    "  # Define the loss function and optimizer\n",
    "  loss_function = nn.CrossEntropyLoss()\n",
    "  optimizer = torch.optim.Adam(mlp.parameters(), lr=1e-4)\n",
    "  \n",
    "  # Run the training loop\n",
    "  for epoch in range(0, 5): # 5 epochs at maximum\n",
    "    \n",
    "    # Print epoch\n",
    "    print(f'Starting epoch {epoch+1}')\n",
    "    \n",
    "    # Set current loss value\n",
    "    current_loss = 0.0\n",
    "    \n",
    "    # Iterate over the DataLoader for training data\n",
    "    for i, data in enumerate(trainloader, 0):\n",
    "      \n",
    "      # Get inputs\n",
    "      inputs, targets = data\n",
    "      \n",
    "      # Zero the gradients\n",
    "      optimizer.zero_grad()\n",
    "      \n",
    "      # Perform forward pass\n",
    "      outputs = mlp(inputs)\n",
    "      \n",
    "      # Compute loss\n",
    "      loss = loss_function(outputs, targets)\n",
    "      \n",
    "      # Perform backward pass\n",
    "      loss.backward()\n",
    "      \n",
    "      # Perform optimization\n",
    "      optimizer.step()\n",
    "      \n",
    "      # Print statistics\n",
    "      current_loss += loss.item()\n",
    "      if i % 500 == 499:\n",
    "          print('Loss after mini-batch %5d: %.3f' %\n",
    "                (i + 1, current_loss / 500))\n",
    "          current_loss = 0.0\n",
    "\n",
    "  # Process is complete.\n",
    "  print('Training process has finished.')"
   ]
  },
  {
   "cell_type": "code",
   "execution_count": null,
   "id": "c8e1a017-69dc-46ab-bde0-fe3530e03bf0",
   "metadata": {},
   "outputs": [],
   "source": []
  }
 ],
 "metadata": {
  "kernelspec": {
   "display_name": "Python (zkml)",
   "language": "python",
   "name": "zkml"
  },
  "language_info": {
   "codemirror_mode": {
    "name": "ipython",
    "version": 3
   },
   "file_extension": ".py",
   "mimetype": "text/x-python",
   "name": "python",
   "nbconvert_exporter": "python",
   "pygments_lexer": "ipython3",
   "version": "3.9.16"
  }
 },
 "nbformat": 4,
 "nbformat_minor": 5
}
